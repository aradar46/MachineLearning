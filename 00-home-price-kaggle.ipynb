# import libraries
import pandas as pd
from sklearn.tree import DecisionTreeRegressor
from sklearn.metrics import mean_absolute_error
from sklearn.model_selection import train_test_split

# read the file
filepath = "/home/arash/Documents/Dropbox/iowa.csv"
iowa = pd.read_csv(filepath)
iowa = pd.DataFrame(iowa)
iowa.columns

# choose the target variable
y = iowa.SalePrice

# choose the features
features = ['LotArea', 'YearBuilt', '1stFlrSF', '2ndFlrSF', 'FullBath', ]
X = iowa[features]

# fit the model
iowaModel = DecisionTreeRegressor(random_state=1)
iowaModel.fit(X, y)

# predict
pred = iowaModel.predict(X)

print("First in-sample predictions:   ", iowaModel.predict(X.head()))
print("Actual target values for homes:", y.head().tolist())

# split the data into training and validation data for both
# features and target # The split is based on a random number generator.
#  Supplying a numeric value to the random_state argument guarantees
#  we get the same split every time we run this script.
train_X, val_X, train_y, val_y = train_test_split(X, y, random_state=1)


# Step 2: Specify and Fit the Model
# Create a DecisionTreeRegressor model and fit it to the relevant data.
# Set random_state to 1 again when creating the model.
iowaModel = DecisionTreeRegressor(random_state=1)

# fit the model
iowaModel.fit(train_X, train_y)

#step 3: Make Predictions with Validation data
val_predictions = iowaModel.predict(val_X)

#step 4: Calculate the Mean Absolute Error in Validation Data
#firs value is the actual value and the second value is the predicted value
val_mae = mean_absolute_error(val_y, val_predictions)
print("\nMean Absolute Error in Validation Data: ", val_mae)
